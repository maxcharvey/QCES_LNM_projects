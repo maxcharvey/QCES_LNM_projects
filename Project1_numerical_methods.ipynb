{
  "cells": [
    {
      "cell_type": "markdown",
      "metadata": {
        "id": "Kvi1witj5wON"
      },
      "source": [
        "<a href=\"https://colab.research.google.com/github/johnryantaylor/QCES/blob/main/Project1_numerical_methods.ipynb\" target=\"_parent\"><img src=\"https://colab.research.google.com/assets/colab-badge.svg\" alt=\"Open In Colab\"/></a>"
      ]
    },
    {
      "cell_type": "markdown",
      "metadata": {
        "id": "lMhM6NoD5wOP"
      },
      "source": [
        "# Project 1: Diffusion equation"
      ]
    },
    {
      "cell_type": "markdown",
      "metadata": {
        "id": "Ijs7dxGFvIPt"
      },
      "source": [
        "## 1. Background + Examples"
      ]
    },
    {
      "cell_type": "markdown",
      "metadata": {
        "id": "_pgh031M5wOP"
      },
      "source": [
        "In this project we will use several methods to solve the diffusion equation:\n",
        "\n",
        "$$ \\partial_t c = \\kappa \\partial_x^2 c $$\n",
        "\n",
        "This project consists of two notebooks. First, in this notebook, we will solve this equation using second order finite differences to approximate the $x$-derivatives, and we will use both the explict Euler and Crank-Nicolson timestepping methods.\n",
        "\n",
        "In the second notebook for this project, we will learn how to use Dedalus to solve the same problem using spectral methods.\n",
        "\n",
        "The objective for this notebook is learn about spatial discretization and to compare the stability, accuracy, and speed of the Explicit euler and Crank-Nicolson methods when applied to the diffusion equation.\n",
        "\n",
        "Student tasks are in [Section 2.1](#section2pt1) and [Section 2.2](#section2pt2)."
      ]
    },
    {
      "cell_type": "markdown",
      "metadata": {
        "id": "D9teOlSC5wOQ"
      },
      "source": [
        "Before we start, load in the required libraries"
      ]
    },
    {
      "cell_type": "code",
      "execution_count": 1,
      "metadata": {
        "id": "bQJdpTTE5wOQ"
      },
      "outputs": [],
      "source": [
        "# Importing necessary libraries\n",
        "import numpy as np\n",
        "import matplotlib.pyplot as plt\n",
        "import scipy.sparse as sp\n",
        "import scipy.sparse.linalg as spla\n",
        "import time"
      ]
    },
    {
      "cell_type": "markdown",
      "metadata": {
        "id": "Tquy_Mqe5wOR"
      },
      "source": [
        "\n",
        "Now, define two functions to timestep the diffusion equation. The code below timesteps the diffusion equation using the expicit Euler method. The function takes in a vector of discrete positions, `x`, discrete times, `t`, and the diffusivity, `kappa`. The vectors `x` and `t` dictate the discretization of the problem in space and time, and the grid spacing must be constant in space and time. The boundary conditions are $\\partial_x c=0$ at the starting and ending points in `x`."
      ]
    },
    {
      "cell_type": "code",
      "execution_count": 2,
      "metadata": {
        "id": "0-9DGnW65wOR"
      },
      "outputs": [],
      "source": [
        "def EE(x, t, kappa):\n",
        "# This function timesteps the diffusion equation with homogeneous Neumann boundary conditions\n",
        "# using the explicit Euler and second order finite difference methods\n",
        "\n",
        "    start_time = time.time()  # Start a timer\n",
        "\n",
        "    # Infer the uniform grid spacing:\n",
        "    dx = (x[-1] - x[0]) / (len(x) - 1); dt = (t[-1] - t[0]) / (len(t) - 1)\n",
        "\n",
        "    # Set the number of gridpoints in x and t\n",
        "    Nx = len(x); Nt = len(t)\n",
        "\n",
        "    # Builds a coefficient matrix, such that M*c is the discrete version of d/dx(c)\n",
        "    M = (np.diag(np.ones(Nx-1), -1) - 2*np.diag(np.ones(Nx), 0) + np.diag(np.ones(Nx-1), 1)) / dx**2\n",
        "\n",
        "    # Turn M into a sparse matrix to save memory and improve speed\n",
        "    M = sp.csr_matrix(M)\n",
        "\n",
        "    # Create an empty sparse array to store the solution\n",
        "    c = np.zeros((Nx, Nt))\n",
        "\n",
        "    c[:, 0] = set_ics(x, kappa, 10)  # Set the initial condition\n",
        "\n",
        "    for k in range(1, Nt):  # loop over the number of timesteps\n",
        "      c[:,k] = c[:,k-1] + dt * kappa * M @ c[:,k-1]\n",
        "      # Enforce the boundary conditions (no flux)\n",
        "      c[0, k] = c[1, k]\n",
        "      c[-1, k] = c[-2, k]\n",
        "\n",
        "    end_time = time.time()  # Print the elapsed time\n",
        "\n",
        "    print(f\"Explicit Euler method took {end_time - start_time:.2f} seconds\")\n",
        "\n",
        "    return c"
      ]
    },
    {
      "cell_type": "markdown",
      "metadata": {
        "id": "OX6RUI8J5wOR"
      },
      "source": [
        "Similarly, the function below timesteps the diffusion equation with the Crank-Nicolson method"
      ]
    },
    {
      "cell_type": "code",
      "execution_count": 3,
      "metadata": {
        "id": "KRXOP_KR5wOR"
      },
      "outputs": [],
      "source": [
        "def CN(x, t, kappa):\n",
        "# This function timesteps the diffusion equation with homogeneous Neumann boundary conditions\n",
        "# using the explicit Euler and second order finite difference methods\n",
        "    start_time = time.time()  # Start a timer\n",
        "\n",
        "    # Infer the uniform grid spacing:\n",
        "    dx = (x[-1] - x[0]) / (len(x) - 1); dt = (t[-1] - t[0]) / (len(t) - 1)\n",
        "\n",
        "    # Set the number of gridpoints in x and t\n",
        "    Nx = len(x); Nt = len(t)\n",
        "\n",
        "    # build a coefficient matrix, such that M*c is the discrete version of d/dx(c)\n",
        "    M = (np.diag(np.ones(Nx-1), -1) - 2*np.diag(np.ones(Nx), 0) + np.diag(np.ones(Nx-1), 1)) / dx**2\n",
        "\n",
        "    # Turn M into a sparse matrix to save memory and improve speed:\n",
        "    M = sp.csr_matrix(M)\n",
        "\n",
        "    A = sp.eye(Nx) - 0.5 * dt * kappa * M  # This matrix appears on the LHS in the C-N scheme\n",
        "    A_inv = spla.inv(A) # Calculate the inverse of A (this only needs to be done once)\n",
        "\n",
        "    # Create an empty sparse array to store the solution\n",
        "    c = np.zeros((Nx, Nt))\n",
        "\n",
        "    c[:, 0] = set_ics(x, kappa, 10)  # Set the initial condition\n",
        "\n",
        "    for k in range(1, Nt): # loop over the number of timesteps\n",
        "        c[:, k] = A_inv @ (c[:, k-1] + 0.5 * dt * kappa * (M @ c[:, k-1]))\n",
        "        # Enforce the boundary conditions\n",
        "        c[0, k] = c[1, k]\n",
        "        c[-1, k] = c[-2, k]\n",
        "\n",
        "    end_time = time.time()  # Print the elapsed time\n",
        "\n",
        "    print(f\"Crank-Nicolson method took {end_time - start_time:.2f} seconds\")\n",
        "\n",
        "    return c"
      ]
    },
    {
      "cell_type": "markdown",
      "metadata": {
        "id": "CFtuEsYm5wOR"
      },
      "source": [
        "Next, create a function to set the initial conditions. The exact solution to the unbounded diffusion equation with a delta function initial condition is:\n",
        "\n",
        "$$\\left(\\frac{1}{4\\pi\\kappa t}\\right)^{1/2}e^{-x^2/(4\\kappa t)}$$\n",
        "\n",
        "The function below sets the initial condition by evaluating the exact solution at a given time. Note that it is important that we don't evaluate the exact solution at `t_ic=0` since this will return a delta function which will be undefined on our finite grid. The value of `t_ic` is set within the `EE` and `CN` functions."
      ]
    },
    {
      "cell_type": "code",
      "execution_count": 4,
      "metadata": {
        "id": "Z7eqXuoY5wOR"
      },
      "outputs": [],
      "source": [
        "# Function to set the initial condition from the exact solution at time t_start\n",
        "def set_ics(x, kappa, t_ic):\n",
        "    c_ic = (4*np.pi*kappa*t_ic)**(-0.5)*np.exp(-x**2 / (4*kappa*t_ic))\n",
        "    # Enforce the boundary conditions\n",
        "    c_ic[0] = c_ic[1]\n",
        "    c_ic[-1] = c_ic[-2]\n",
        "    return c_ic\n"
      ]
    },
    {
      "cell_type": "markdown",
      "metadata": {
        "id": "4xs_Yhdb5wOS"
      },
      "source": [
        "Finally, define some parameters and the x and t vectors:"
      ]
    },
    {
      "cell_type": "code",
      "execution_count": 5,
      "metadata": {
        "id": "mHatFZjk5wOS"
      },
      "outputs": [],
      "source": [
        "# Defining parameters\n",
        "kappa = 0.001  # diffusivity\n",
        "\n",
        "# Timestepping parameters\n",
        "t_start = 0  # start time (note that this is not the same time used to evaluate the exact solution to set the ICs)\n",
        "t_end = 10  # end time\n",
        "Nt = 1000  # number of timesteps\n",
        "\n",
        "# Size of the physical domain\n",
        "x_start = -1\n",
        "x_end = 1\n",
        "Nx = 100\n",
        "\n",
        "t = np.linspace(t_start, t_end, Nt)  # Create a vector of times\n",
        "x = np.linspace(x_start, x_end, Nx)  # Create a vector for x"
      ]
    },
    {
      "cell_type": "markdown",
      "metadata": {
        "id": "nate3yVV5wOS"
      },
      "source": [
        "Run each method once:"
      ]
    },
    {
      "cell_type": "code",
      "execution_count": null,
      "metadata": {
        "colab": {
          "base_uri": "https://localhost:8080/"
        },
        "id": "UmccFq585wOS",
        "outputId": "69d287a4-4404-433a-abbc-e51f8c47f2ec"
      },
      "outputs": [],
      "source": [
        "# Run the simulations\n",
        "c_EE = EE(x, t, kappa) # explicit Euler\n",
        "c_CN = CN(x, t, kappa) # Crank-Nicolson"
      ]
    },
    {
      "cell_type": "markdown",
      "metadata": {
        "id": "gh_SpkMY5wOS"
      },
      "source": [
        "and finally, plot the results side-by-side"
      ]
    },
    {
      "cell_type": "code",
      "execution_count": null,
      "metadata": {
        "colab": {
          "base_uri": "https://localhost:8080/"
        },
        "id": "A2bPKtdH5wOS",
        "outputId": "304d7386-0f19-4c1e-8c01-fadbc182d2d0"
      },
      "outputs": [],
      "source": [
        "# Plot the results\n",
        "plt.figure(figsize=(14, 6))\n",
        "\n",
        "plt.subplot(1, 2, 1)\n",
        "plt.pcolormesh(x, t, c_EE.T, shading='auto')\n",
        "plt.xlabel('x')\n",
        "plt.ylabel('t')\n",
        "plt.title('Explicit Euler')\n",
        "\n",
        "plt.subplot(1, 2, 2)\n",
        "plt.pcolormesh(x, t, c_CN.T, shading='auto')\n",
        "plt.xlabel('x')\n",
        "plt.ylabel('t')\n",
        "plt.title('Crank-Nicolson')\n",
        "\n",
        "plt.tight_layout()\n",
        "plt.show()"
      ]
    },
    {
      "cell_type": "markdown",
      "metadata": {
        "id": "ttgIGnFH5wOT"
      },
      "source": [
        "## 2. Student investigation"
      ]
    },
    {
      "cell_type": "markdown",
      "metadata": {
        "id": "YTcN74Wy5wOT"
      },
      "source": [
        "### 2.1 Stability\n"
      ]
    },
    {
      "cell_type": "markdown",
      "metadata": {
        "id": "lON7QBvIu_oN"
      },
      "source": [
        "<a id='section2pt1'></a>\n",
        "The explicit Euler and Crank-Nicolson methods have very different stability properties. To explore this, try increasing Nx (decreasing the grid spacing, $\\Delta x$) and/or increase the diffusivity, $\\kappa$, and see how each method responds. How does the stability depend on `Nx`? Discuss your findings below (~1 paragraph)"
      ]
    },
    {
      "cell_type": "markdown",
      "metadata": {
        "id": "J0Mzc6ef3nnL"
      },
      "source": [
        "The system is stable when $$\\kappa \\frac{\\Delta t}{(\\Delta x)^2}<\\frac{1}{2}$$\n",
        "\n"
      ]
    },
    {
      "cell_type": "code",
      "execution_count": null,
      "metadata": {
        "colab": {
          "base_uri": "https://localhost:8080/",
          "height": 472
        },
        "id": "aLIgf6EJ0lBt",
        "outputId": "13545199-4875-4d5b-ce3d-31fd1fd5cca8"
      },
      "outputs": [],
      "source": [
        "# Going to define some meshgrid of t and x values and then for different values of kappa we can plot different lines of stability\n",
        "\n",
        "\n",
        "import numpy as np\n",
        "import matplotlib.pyplot as plt\n",
        "\n",
        "# Define the ranges\n",
        "delta_x_values = np.linspace(0, 1, 1000)\n",
        "delta_t_values = np.linspace(0, 10, 100)\n",
        "kappa_values = [0.001, 0.003, 0.01, 0.05]\n",
        "\n",
        "plt.figure()\n",
        "\n",
        "# Define a list of colors (one for each kappa)\n",
        "colors = ['r', 'g', 'b', 'purple']  # Specify colors for each kappa\n",
        "\n",
        "# Loop over each kappa value\n",
        "for i, kappa in enumerate(kappa_values):\n",
        "    stability_matrix = np.zeros((len(delta_x_values), len(delta_t_values)))\n",
        "\n",
        "    # Fill the stability matrix\n",
        "    for j, delta_x in enumerate(delta_x_values):\n",
        "        for k, delta_t in enumerate(delta_t_values):\n",
        "            if delta_x != 0:  # Avoid division by zero for delta_x = 0\n",
        "                stability_matrix[j, k] = kappa * delta_t / (delta_x)**2\n",
        "\n",
        "    # Identify values below 0.5\n",
        "    below_threshold = stability_matrix < 0.5\n",
        "\n",
        "    # Plot the boundary using `plt.contour` with specified color\n",
        "    contour = plt.contour(delta_x_values, delta_t_values, below_threshold.T, levels=[0.5], colors=colors[i])\n",
        "\n",
        "    # Add a label for the line in the legend\n",
        "    plt.plot([], [], color=colors[i], label=f'kappa = {kappa}')\n",
        "\n",
        "# Add title and labels\n",
        "plt.title('Stability Boundaries for Different Values of kappa')\n",
        "plt.xlabel('delta_x')\n",
        "plt.ylabel('delta_t')\n",
        "plt.grid(True)\n",
        "\n",
        "# Add a legend\n",
        "plt.legend()\n",
        "\n",
        "# Show the plot\n",
        "plt.show()\n",
        "\n",
        "\n",
        "\n",
        "\n",
        "\n"
      ]
    },
    {
      "cell_type": "markdown",
      "metadata": {
        "id": "PRYwUBJx5wOT"
      },
      "source": [
        "Region of acceptance is under the graph\n",
        "\n",
        "TODO: Write analysis of the graph and discussion"
      ]
    },
    {
      "cell_type": "markdown",
      "metadata": {
        "id": "iLIfQc-C5wOT"
      },
      "source": [
        "### 2.2 Accuracy\n",
        "\n"
      ]
    },
    {
      "cell_type": "markdown",
      "metadata": {
        "id": "8brlBQ4Ku4Pr"
      },
      "source": [
        "<a id='section2pt2'></a>\n",
        "Next, we will examine the accuracy of the numerical methods used above. In order to do this, it is useful to compare our numerical solutions with the exact solution to the diffusion equation. Below, write code to plot the exact solution and the numerical solution using explicit Euler and Crank-Nicolson at the final time ($t=10$). Note that you can use the exact solution to the diffusion equation in an unbounded domain in $x$ and keep in mind that the exact solution and numerical solutions will differ for later times when boundary effects are felt.\n",
        "\n",
        "\\\\\n",
        "The exact solution to the diffusion equation is given by:\n",
        "\n",
        "\n",
        "$$\\left(\\frac{1}{4\\pi\\kappa t}\\right)^{1/2}e^{-x^2/(4\\kappa t)}$$\n",
        "\n",
        "\n"
      ]
    },
    {
      "cell_type": "markdown",
      "metadata": {
        "id": "B3c5YSaIpahp"
      },
      "source": [
        "#### Investigation 1 - Errors due to boundary conditions\n",
        "\n"
      ]
    },
    {
      "cell_type": "markdown",
      "metadata": {
        "id": "DUhLqo6_pt_v"
      },
      "source": [
        "This first investigation is just looking at percentage error caused by both the Explicit Euler and Crank-Nicolson numerical methods relative to the exact solution to the diffusion equation.\n",
        "\n",
        "We look at final time, $t=10$, and observe both the outputs of the numberical models and the exact solution (plot 1) as well as the percentage error between each of the models and the exact solution (plot 2)."
      ]
    },
    {
      "cell_type": "code",
      "execution_count": null,
      "metadata": {
        "colab": {
          "base_uri": "https://localhost:8080/",
          "height": 729
        },
        "id": "mCLwo0ky5wOT",
        "outputId": "22784eaf-0fd3-4c77-b05a-c33a55e789b8"
      },
      "outputs": [],
      "source": [
        "# This is an investigation of the width over which each numerical method accurately represents the exact solution to the diffusion equation\n",
        "\n",
        "\n",
        "kappa = 0.001  # diffusivity\n",
        "\n",
        "# Timestepping parameters\n",
        "t_start = 0  # start time (note that this is not the same time used to evaluate the exact solution to set the ICs)\n",
        "t_end = 10  # end time\n",
        "Nt = 1000  # number of timesteps\n",
        "\n",
        "# Size of the physical domain\n",
        "x_start = -1\n",
        "x_end = 1\n",
        "Nx = 100\n",
        "\n",
        "t = np.linspace(t_start, t_end, Nt)  # Create a vector of times\n",
        "x = np.linspace(x_start, x_end, Nx)  # Create a vector for x\n",
        "\n",
        "\n",
        "c_EE = EE(x, t, kappa) # explicit Euler\n",
        "c_CN = CN(x, t, kappa) # Crank-Nicolson\n",
        "c_exact = (1/(4*np.pi*kappa*(t_end+10)))**0.5*np.exp(-x**2/(4*kappa*(t_end+10)))\n",
        "\n",
        "\n",
        "fig, ax1 = plt.subplots(figsize=(12,8), nrows=2)\n",
        "ax1=ax1.flatten()\n",
        "\n",
        "ax1[0].plot(x, c_exact, c='k', label='Exact')\n",
        "ax1[0].plot(x, c_EE[:,-1], c='green', label='Explicit Euler')\n",
        "ax1[0].plot(x, c_CN[:,-1], c='orange', label='Crank-Nicolson')\n",
        "ax1[0].legend()\n",
        "\n",
        "ax1[0].set_xlabel('x')\n",
        "ax1[0].set_ylabel('c')\n",
        "\n",
        "ax1[1].plot(x, (c_EE[:,-1]-c_exact)/c_exact *100, c='green', label='Explicit Euler Error')\n",
        "ax1[1].plot(x, (c_CN[:,-1]-c_exact)/c_exact *100, c='orange', label='Crank-Nicolson Error')\n",
        "ax1[1].legend()\n",
        "\n",
        "ax1[1].set_xlabel('x')\n",
        "ax1[1].set_ylabel('Percentage error')\n",
        "\n",
        "\n",
        "plt.show()"
      ]
    },
    {
      "cell_type": "markdown",
      "metadata": {
        "id": "R97_x9DDpTQj"
      },
      "source": [
        "**Investigation 1 discussion**\n",
        "\n",
        "From the plots above it can be seen that around the centre of the diffusion, both the Explicit Euler and Crank-Nicolson numerical models give good approximations to the exact diffusion equation with a low percentage error. At greater distances from the diffusion, the percentage error in the numberical model increases. There is a large error between the exact solution and the numberical models for distances close to the boundary. \\\\\n",
        "\n",
        "As the diffusion equation that produces the exact solution is beting modelled as an unbounded 1-D diffusion equation but the numerical solutions impose bondary conditions in the x dimension this large deviation close to the boundary of the numberical models is to be expected. It should be noted however that the absolute error of the numerical models in this region is small compared to the values present in the central region of the graph, and also that the model capture the diffusion profile well at the endtime being investigated."
      ]
    },
    {
      "cell_type": "markdown",
      "metadata": {
        "id": "kI7jaAF3piR3"
      },
      "source": [
        "#### Investigation 2 - Errors due to grid spacing and timestep\n"
      ]
    },
    {
      "cell_type": "markdown",
      "metadata": {
        "id": "Tr9KX8-O5wOT"
      },
      "source": [
        "Now, define a measure of the error of each numerical method compared to the exact solution (there is no single correct way to do this). Plot the error of both methods as a function of the grid spacing $\\Delta x$. Then, similarly plot the error as a function of the timestep, $\\Delta t$."
      ]
    },
    {
      "cell_type": "markdown",
      "metadata": {
        "id": "Yi0t29MXrujj"
      },
      "source": [
        "The first requirement is to determine what method to measure the over error of the graph is to look at the sum of the squared differences between the numerical model and the exact solution.\n",
        "\n",
        "As this process cares about the absolute error in the model and not the fractional model, the high percentage error experiences at the boundaries of the numerical models is not an issue as the absolute errors seen about $x=0$ are orders of magnitude greater than those observed at the edges."
      ]
    },
    {
      "cell_type": "code",
      "execution_count": 10,
      "metadata": {
        "colab": {
          "base_uri": "https://localhost:8080/"
        },
        "id": "zRV2oWgA5wOT",
        "outputId": "5e3744ae-30a7-4810-b194-65ca1de14dba"
      },
      "outputs": [],
      "source": [
        "kappa = 0.001  # diffusivity\n",
        "\n",
        "# Timestepping parameters\n",
        "t_start = 0  # start time (note that this is not the same time used to evaluate the exact solution to set the ICs)\n",
        "t_end = 10  # end time\n",
        "\n",
        "# Size of the physical domain\n",
        "x_start = -1\n",
        "x_end = 1\n"
      ]
    },
    {
      "cell_type": "code",
      "execution_count": null,
      "metadata": {
        "colab": {
          "base_uri": "https://localhost:8080/"
        },
        "id": "o34ieZY1x_KH",
        "outputId": "fe037b80-bc46-482a-8d74-3172c7319712"
      },
      "outputs": [],
      "source": [
        "# This makes an array of values for both Nt and Nx based upon a log scale\n",
        "Nt_num = 10\n",
        "Nx_num = 10\n",
        "\n",
        "#Nt_values = np.logspace(3, 4, Nt_num, base=10)\n",
        "#Nx_values = np.logspace(2, 3, Nx_num, base=10)\n",
        "\n",
        "Nt_values = np.linspace(200, 1000, Nt_num).astype(int)\n",
        "Nx_values = np.linspace(50, 200, Nx_num).astype(int)\n",
        "\n",
        "\n",
        "# This makes a mesh of the\n",
        "Nt_mesh, Nx_mesh = np.meshgrid(Nt_values, Nx_values)\n",
        "\n",
        "\n",
        "# The exact run for the\n",
        "\n",
        "\n",
        "\n",
        "# Create an empty 2D array for the EE and CN runs\n",
        "\n",
        "EE_2d = np.zeros((len(Nt_values), len(Nx_values)))\n",
        "CN_2d = np.zeros((len(Nt_values), len(Nx_values)))\n",
        "\n",
        "\n",
        "# This iterates through each value of\n",
        "for i in range(len(Nx_values)):\n",
        "    for j in range(len(Nt_values)):\n",
        "      Nt = Nt_mesh[i,j].astype(int)\n",
        "      Nx = Nx_mesh[i,j].astype(int)\n",
        "\n",
        "      t = np.linspace(t_start, t_end, Nt)  # Create a vector of times\n",
        "      x = np.linspace(x_start, x_end, Nx)\n",
        "\n",
        "      c_exact = (1/(4*np.pi*kappa*(t_end+10)))**0.5*np.exp(-x**2/(4*kappa*(t_end+10)))\n",
        "      c_EE = EE(x, t, kappa) # explicit Euler\n",
        "      c_CN = CN(x, t, kappa) # Crank-Nicolson\n",
        "\n",
        "      EE_2d[i,j] = np.sum((c_EE[:, -1]-c_exact)**2)\n",
        "      CN_2d[i,j] = np.sum((c_CN[:, -1]-c_exact)**2)\n",
        "\n",
        "\n",
        "\n",
        "\n"
      ]
    },
    {
      "cell_type": "code",
      "execution_count": null,
      "metadata": {
        "colab": {
          "base_uri": "https://localhost:8080/",
          "height": 1000
        },
        "id": "8W6dmurfrqpp",
        "outputId": "3568918f-db80-4ff7-bd71-4954e2c987ef"
      },
      "outputs": [],
      "source": [
        "import matplotlib.pyplot as plt\n",
        "from mpl_toolkits.mplot3d import axes3d\n",
        "import pandas as pd\n",
        "\n",
        "\n",
        "ax = plt.figure(figsize=(12,8)).add_subplot(projection='3d')\n",
        "ax.plot_surface(10/Nt_mesh, 2/Nx_mesh, EE_2d, cmap='viridis')\n",
        "ax.set_xlabel('Delta t')\n",
        "ax.set_ylabel('Delta x')\n",
        "ax.set_zlabel('Error')\n",
        "plt.show()\n",
        "\n",
        "ax1=plt.figure(figsize=(12,8)).add_subplot(projection='3d')\n",
        "ax1.plot_surface(10/Nt_mesh, 2/Nx_mesh, CN_2d, cmap='viridis')\n",
        "ax1.set_xlabel('Delta t')\n",
        "ax1.set_ylabel('Delta x')\n",
        "ax1.set_zlabel('Error')\n",
        "plt.show()\n"
      ]
    },
    {
      "cell_type": "markdown",
      "metadata": {
        "id": "DbpR1OsVpopK"
      },
      "source": [
        "#### Investigation 3"
      ]
    },
    {
      "cell_type": "markdown",
      "metadata": {
        "id": "FIR52qFV5wOT"
      },
      "source": [
        "Finally, select a given error tolerance and explore whether explicit Euler or Crank-Nicoslon is more efficient (faster) at generating solutions with error less than your error tolerance. Discuss your conclusion and add supporting figures if necessary."
      ]
    },
    {
      "cell_type": "markdown",
      "metadata": {
        "id": "yGbdjcEg5wOT"
      },
      "source": [
        "INSERT DISCUSSION OF ERROR HERE (~1 paragraph).  OPTIONALLY ADD PLOTS BY INSERTING A CODE BLOCK BELOW."
      ]
    },
    {
      "cell_type": "markdown",
      "metadata": {
        "id": "6lje-7oK5wOT"
      },
      "source": [
        "Now, move to Project1_dedalus.ipynb which will introduce Dedalus and spectral methods."
      ]
    },
    {
      "cell_type": "markdown",
      "metadata": {
        "id": "mLdwDZ_HVA6G"
      },
      "source": [
        "## 3. Optional further investigations\n",
        "\n"
      ]
    },
    {
      "cell_type": "markdown",
      "metadata": {
        "id": "cET2ol6mvP7X"
      },
      "source": [
        "The application of the boundary conditions for the Crank-Nicolson method isn't quite right in the script above (but the boundary conditions aren't very important in this example). Account for the boundary conditions by modifying the coefficient matrix. This ensures that the boundary conditions are applied to the implicit and explicit terms involved in the Crank-Nicolson update. How would you handle fixed value (Dirichlet) and fixed gradient (Neumann) boundary conditions?"
      ]
    },
    {
      "cell_type": "markdown",
      "metadata": {
        "id": "ScVGuWIeszn6"
      },
      "source": []
    }
  ],
  "metadata": {
    "colab": {
      "collapsed_sections": [
        "Ijs7dxGFvIPt",
        "YTcN74Wy5wOT",
        "mLdwDZ_HVA6G"
      ],
      "provenance": []
    },
    "kernelspec": {
      "display_name": "dedalus3",
      "language": "python",
      "name": "python3"
    },
    "language_info": {
      "codemirror_mode": {
        "name": "ipython",
        "version": 3
      },
      "file_extension": ".py",
      "mimetype": "text/x-python",
      "name": "python",
      "nbconvert_exporter": "python",
      "pygments_lexer": "ipython3",
      "version": "3.13.0"
    }
  },
  "nbformat": 4,
  "nbformat_minor": 0
}
