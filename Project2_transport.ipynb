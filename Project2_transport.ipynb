{
 "cells": [
  {
   "cell_type": "markdown",
   "metadata": {},
   "source": [
    "<a href=\"https://colab.research.google.com/github/johnryantaylor/QCES/blob/main/Project2_transport.ipynb\" target=\"_parent\"><img src=\"https://colab.research.google.com/assets/colab-badge.svg\" alt=\"Open In Colab\"/></a>"
   ]
  },
  {
   "cell_type": "markdown",
   "metadata": {},
   "source": [
    "# Project 2: Tracer transport\n",
    "\n",
    "A critical aspect of understanding climate and environmental systems is describing the movement of substances. This could include pollution or water vapor in the atmosphere, salt in an estuary, or chemicals in a river. We often model the transport of these substances using an advection/diffusion equation for the concentration of the substance. In this context, we sometimes refer to the concentration field as a `tracer' since it helps us track the movement of individual molecules. We can also use this framework to describe the transport of heat, although in this case the tracer field (temperature or heat content) tracks the movement of thermal energy.\n",
    "\n",
    "In this project we will use Dedalus to solve advection diffusion equations to describe the vertical distribution of heat in the ocean and the concentration of pollution in a river.\n",
    "\n",
    "Student tasks are in [Section 1.4](#section1pt4), [Section 1.6](#section1pt6), and [Section 2.3](#section2pt3)"
   ]
  },
  {
   "cell_type": "markdown",
   "metadata": {},
   "source": [
    "## Setup\n",
    "If you are using Google colab, run the script below to install Dedalus"
   ]
  },
  {
   "cell_type": "code",
   "execution_count": 1,
   "metadata": {},
   "outputs": [
    {
     "name": "stdout",
     "output_type": "stream",
     "text": [
      "env: OMP_NUM_THREADS=1\n",
      "env: NUMEXPR_MAX_THREADS=1\n",
      "Dedalus already installed :)\n"
     ]
    }
   ],
   "source": [
    "# Set environment variables for best performance\n",
    "%env OMP_NUM_THREADS=1\n",
    "%env NUMEXPR_MAX_THREADS=1\n",
    "\n",
    "# Minimize logging output\n",
    "import logging\n",
    "logging.disable(logging.DEBUG)\n",
    "\n",
    "# Check if running on google colab\n",
    "import os\n",
    "using_google_colab = bool(os.getenv(\"COLAB_RELEASE_TAG\"))\n",
    "\n",
    "# Check for Dedalus\n",
    "try:\n",
    "    import dedalus.public as de\n",
    "    print(\"Dedalus already installed :)\")\n",
    "except:\n",
    "    print(\"Dedalus not installed yet.\")\n",
    "    if using_google_colab:\n",
    "        print(\"Installing for Google Colab.\")\n",
    "        print()\n",
    "        # Step 1: Install FFTW\n",
    "        !apt-get install libfftw3-dev\n",
    "        !apt-get install libfftw3-mpi-dev\n",
    "        # Step 2: Set paths for Dedalus installation\n",
    "        import os\n",
    "        os.environ['MPI_INCLUDE_PATH'] = \"/usr/lib/x86_64-linux-gnu/openmpi/include\"\n",
    "        os.environ['MPI_LIBRARY_PATH'] = \"/usr/lib/x86_64-linux-gnu\"\n",
    "        os.environ['FFTW_INCLUDE_PATH'] = \"/usr/include\"\n",
    "        os.environ['FFTW_LIBRARY_PATH'] = \"/usr/lib/x86_64-linux-gnu\"\n",
    "        # Step 3: Install Dedalus using pip\n",
    "        !pip3 install cython \"mpi4py<4.0\" numpy setuptools wheel\n",
    "        !CC=mpicc pip3 install --no-cache --no-build-isolation http://github.com/dedalusproject/dedalus/zipball/master/\n",
    "        !pip3 install -q ipympl\n",
    "        # Step 4: Check installation\n",
    "        print()\n",
    "        try:\n",
    "            import dedalus.public as de\n",
    "            print(\"Dedalus successfully installed :)\")\n",
    "        except:\n",
    "            print(\"Error installing Dedalus :(\")\n",
    "            raise\n",
    "    else:\n",
    "        print(\"See website for installation instructions:\")\n",
    "        print(\"https://dedalus-project.readthedocs.io/en/latest/pages/installation.html\")\n",
    "\n",
    "# Setup interactive matplotlib\n",
    "if using_google_colab:\n",
    "    from google.colab import output\n",
    "    output.enable_custom_widget_manager()"
   ]
  },
  {
   "cell_type": "markdown",
   "metadata": {},
   "source": [
    "## 1. Thermal structure in the ocean\n",
    "\n",
    "Most of the ocean has a stable thermal stratification with warm water at the surface and cold water in the abyss (exceptions occur in salt-stratified waters like the Arctic Ocean). Since the ocean is a massive thermal reservoir, understanding the distribution of this heat is important to quantifying the ocean's role in a changing climate. The structure of the temperature field can also inform us about the circulation in the ocean interior.\n"
   ]
  },
  {
   "cell_type": "markdown",
   "metadata": {},
   "source": [
    "### 1.1 Measured temperature profile\n",
    "\n",
    "The code below plots a sample temperature profile obtained off the coast of California. The data was obtained by digitizing Figure 3 in Munk, 1966."
   ]
  },
  {
   "cell_type": "code",
   "execution_count": 1,
   "metadata": {},
   "outputs": [
    {
     "data": {
      "text/plain": [
       "Text(0, 0.5, 'Depth (m)')"
      ]
     },
     "execution_count": 1,
     "metadata": {},
     "output_type": "execute_result"
    },
    {
     "data": {
      "image/png": "[encoded data removed]",
      "text/plain": [
       "<Figure size 640x480 with 1 Axes>"
      ]
     },
     "metadata": {},
     "output_type": "display_data"
    }
   ],
   "source": [
    "import matplotlib.pyplot as plt\n",
    "\n",
    "# Temperature measurements extracted from Figure 3 in Munk, 1966\n",
    "CTD_T = [1.1296296296296295, 1.122004357298475, 1.1143790849673203, 1.1067538126361656, 1.1143790849673203, 1.1143790849673203, 1.1372549019607843, 1.122004357298475, 1.1372549019607843, 1.1525054466230937, 1.2287581699346406, 1.2745098039215685, 1.343137254901961, 1.4041394335511983, 1.526143790849673, 1.6405228758169934, 1.8997821350762527, 2.242919389978214, 2.69281045751634, 3.104575163398693, 3.104575163398693, 3.218954248366013, 3.4324618736383443, 3.8289760348583877, 4.042483660130719, 4.438997821350762]\n",
    "CTD_z = [-4976.958525345623, -4869.431643625192, -4677.419354838709, -4470.046082949309, -4270.353302611367, -4070.6605222734256, -3932.411674347158, -3786.4823348694317, -3586.78955453149, -3394.7772657450078, -3195.084485407066, -2995.3917050691243, -2803.379416282642, -2580.6451612903224, -2350.230414746544, -2112.1351766513058, -1843.3179723502303, -1597.5422427035332, -1344.0860215053763, -1144.3932411674346, -1144.3932411674346, -1121.351766513057, -990.7834101382491, -821.8125960061443, -698.9247311827958, -583.7173579109067]\n",
    "\n",
    "plt.scatter(CTD_T,CTD_z,s=10)\n",
    "plt.xlabel('T (ºC)')\n",
    "plt.ylabel('Depth (m)')\n"
   ]
  },
  {
   "cell_type": "markdown",
   "metadata": {},
   "source": [
    "### 1.2 Abyssal recipes\n",
    "\n",
    "Munk (1966) proposed that the thermal structure of the ocean interior is set by a balance between upwelling and diffusion. In this view, cold waters sink near the poles and spread across the seafloor before slowly rising through the ocean interior. If we assume, as Munk did, that the water upwells uniformly across the globe, the upwelling speed is approximately $10^{-7}$ m/s. This is far too small to directly measure, but it is large enough to have a major impact on the distribution of tracers. Since light can only penetrate through the top ~100m of ocean, we can ignore solar heating, except in that it sets the temperature near the ocean surface."
   ]
  },
  {
   "cell_type": "markdown",
   "metadata": {},
   "source": [
    "### 1.3 Steady advection/diffusion equation\n",
    "\n",
    "Dedalus can solve differential equations in various forms. In addition to time-dependent initial value problems (IVPs), Dedalus can solve linear and nonlinear boundary value problems. The code below uses Dedalus to solve a linear boundary value problem (IVBP) for the steady state advection/diffusion equation. \n",
    "\n",
    "Here, the top and bottom temperature are set from the measured profile and these are used as boundary conditions. The vertical (upwelling) velocity is set to $10^{-7} m/s$, and the diffusivity is set to $10^{-7}$ $m^2/s$, to approximate the molecular diffusivity of heat in seawater. "
   ]
  },
  {
   "cell_type": "code",
   "execution_count": 3,
   "metadata": {},
   "outputs": [
    {
     "name": "stdout",
     "output_type": "stream",
     "text": [
      "2024-11-14 14:52:40,233 subsystems 0/1 INFO :: Building subproblem matrices 1/1 (~100%) Elapsed: 0s, Remaining: 0s, Rate: 1.2e+01/s\n"
     ]
    },
    {
     "data": {
      "text/plain": [
       "Text(0, 0.5, 'Depth (m)')"
      ]
     },
     "execution_count": 3,
     "metadata": {},
     "output_type": "execute_result"
    },
    {
     "data": {
      "image/png": "[encoded data removed]",
      "text/plain": [
       "<Figure size 600x400 with 1 Axes>"
      ]
     },
     "metadata": {},
     "output_type": "display_data"
    }
   ],
   "source": [
    "\"\"\"\n",
    "Dedalus script to solve the steady advection/diffusion equation\n",
    "\"\"\"\n",
    "\n",
    "import numpy as np\n",
    "import matplotlib.pyplot as plt\n",
    "import dedalus.public as d3\n",
    "import logging\n",
    "logger = logging.getLogger(__name__)\n",
    "\n",
    "# Set various parameters. Note that the depth and the top and bottom temperature \n",
    "# are taken from the CTD data in the code cell above. That cell must be run first to define CTD_T and CTD_z.\n",
    "z_surface = CTD_z[-1]\n",
    "z_bottom = CTD_z[0]\n",
    "T_surface = CTD_T[-1]\n",
    "T_bottom = CTD_T[0]\n",
    "Nz = 1000\n",
    "\n",
    "# Set the upwelling velocity\n",
    "w = 1e-7 # m/s\n",
    "# Set the diffusivity\n",
    "kappa=1e-7 # m^2/s\n",
    "\n",
    "# Bases\n",
    "zcoord = d3.Coordinate('z')\n",
    "dist = d3.Distributor(zcoord, dtype=np.float64)\n",
    "zbasis = d3.Chebyshev(zcoord, size=Nz, bounds=(z_bottom, z_surface))\n",
    "z = dist.local_grid(zbasis)\n",
    "\n",
    "# Fields\n",
    "T = dist.Field(name='T', bases=zbasis)\n",
    "\n",
    "# Add two tau variables to allow us to apply two boundary conditions\n",
    "tau_1 = dist.Field(name='tau_1')\n",
    "tau_2 = dist.Field(name='tau_2')\n",
    "lift_basis = zbasis.derivative_basis(1)\n",
    "lift = lambda A: d3.Lift(A, lift_basis, -1)\n",
    "\n",
    "# Substitutions\n",
    "dz = lambda A: d3.Differentiate(A, zcoord)\n",
    "Tz = dz(T) + lift(tau_1)\n",
    "Tzz = dz(Tz) + lift(tau_2)\n",
    "\n",
    "# Problem\n",
    "problem = d3.LBVP([T, tau_1, tau_2], namespace=locals())\n",
    "problem.add_equation(\"w*Tz - kappa*Tzz = 0\")\n",
    "problem.add_equation(\"T(z=z_surface) = T_surface\")\n",
    "problem.add_equation(\"T(z=z_bottom) = T_bottom\")\n",
    "\n",
    "# Solver\n",
    "solver = problem.build_solver()\n",
    "solver.solve()\n",
    "\n",
    "# Plot\n",
    "plt.figure(figsize=(6, 4))\n",
    "Tg=T['g']\n",
    "plt.scatter(CTD_T,CTD_z,s=10)\n",
    "plt.plot(Tg,z,'k')\n",
    "plt.xlabel('Temperature (ºC)')\n",
    "plt.ylabel('Depth (m)')"
   ]
  },
  {
   "cell_type": "markdown",
   "metadata": {},
   "source": [
    "### 1.4 Student investigation\n",
    "<a id='section1pt4'></a>\n",
    "Note that the profile above is not a good fit to the data. This implies that molecular diffusion isn't sufficient to transport heat down from the surface and stop the ocean from filling up with cold, dense water. \n",
    "\n",
    "Munk (1966) proposed that small-scale turbulence in the ocean interior results in a diffusivity that is orders of magnitude larger than the molecular value. Find a diffusivity that gives a good match with the data and test it in the Dedalus script above. Comment on the ability of this model (steady advection/diffusion) to fit the data. "
   ]
  },
  {
   "cell_type": "code",
   "execution_count": 8,
   "metadata": {},
   "outputs": [
    {
     "name": "stdout",
     "output_type": "stream",
     "text": [
      "2024-11-14 14:55:29,384 subsystems 0/1 INFO :: Building subproblem matrices 1/1 (~100%) Elapsed: 0s, Remaining: 0s, Rate: 1.6e+01/s\n"
     ]
    },
    {
     "data": {
      "text/plain": [
       "Text(0, 0.5, 'Depth (m)')"
      ]
     },
     "execution_count": 8,
     "metadata": {},
     "output_type": "execute_result"
    },
    {
     "data": {
      "image/png": "[encoded data removed]",
      "text/plain": [
       "<Figure size 600x400 with 1 Axes>"
      ]
     },
     "metadata": {},
     "output_type": "display_data"
    }
   ],
   "source": [
    "#TODO: could have a look at maybe running an optimisation to find a better value for kappa \n",
    "\n",
    "# Here we attempt to find a value of the diffusivity that gives a good match with the data:\n",
    "\n",
    "\"\"\"\n",
    "Dedalus script to solve the steady advection/diffusion equation\n",
    "\"\"\"\n",
    "\n",
    "\n",
    "# Set various parameters. Note that the depth and the top and bottom temperature \n",
    "# are taken from the CTD data in the code cell above. That cell must be run first to define CTD_T and CTD_z.\n",
    "z_surface = CTD_z[-1]\n",
    "z_bottom = CTD_z[0]\n",
    "T_surface = CTD_T[-1]\n",
    "T_bottom = CTD_T[0]\n",
    "Nz = 1000\n",
    "\n",
    "# Set the upwelling velocity\n",
    "w = 1e-7 # m/s\n",
    "# Set the diffusivity\n",
    "kappa=9e-5 # m^2/s\n",
    "\n",
    "# Bases\n",
    "zcoord = d3.Coordinate('z')\n",
    "dist = d3.Distributor(zcoord, dtype=np.float64)\n",
    "zbasis = d3.Chebyshev(zcoord, size=Nz, bounds=(z_bottom, z_surface))\n",
    "z = dist.local_grid(zbasis)\n",
    "\n",
    "# Fields\n",
    "T = dist.Field(name='T', bases=zbasis)\n",
    "\n",
    "# Add two tau variables to allow us to apply two boundary conditions\n",
    "tau_1 = dist.Field(name='tau_1')\n",
    "tau_2 = dist.Field(name='tau_2')\n",
    "lift_basis = zbasis.derivative_basis(1)\n",
    "lift = lambda A: d3.Lift(A, lift_basis, -1)\n",
    "\n",
    "# Substitutions\n",
    "dz = lambda A: d3.Differentiate(A, zcoord)\n",
    "Tz = dz(T) + lift(tau_1)\n",
    "Tzz = dz(Tz) + lift(tau_2)\n",
    "\n",
    "# Problem\n",
    "problem = d3.LBVP([T, tau_1, tau_2], namespace=locals())\n",
    "problem.add_equation(\"w*Tz - kappa*Tzz = 0\")\n",
    "problem.add_equation(\"T(z=z_surface) = T_surface\")\n",
    "problem.add_equation(\"T(z=z_bottom) = T_bottom\")\n",
    "\n",
    "# Solver\n",
    "solver = problem.build_solver()\n",
    "solver.solve()\n",
    "\n",
    "# Plot\n",
    "plt.figure(figsize=(6, 4))\n",
    "Tg=T['g']\n",
    "plt.scatter(CTD_T,CTD_z,s=10)\n",
    "plt.plot(Tg,z,'k')\n",
    "plt.xlabel('Temperature (ºC)')\n",
    "plt.ylabel('Depth (m)')\n"
   ]
  },
  {
   "cell_type": "markdown",
   "metadata": {},
   "source": [
    "#### 1.4.1 Kappa value discussion \n",
    "\n",
    "The value of diffusivity used in the odel above is $9 \\times  10^{-5} m^2/s$ \n",
    "\n",
    "This value is approimately 1000 times greater than the initial value given in the practical. The new value of kappa fits the odel decently well but still slightly overestimates the temperature of the deep ocean. "
   ]
  },
  {
   "cell_type": "markdown",
   "metadata": {},
   "source": [
    "### 1.5 Turning ocean mixing upside down\n",
    "\n",
    "Decades of research to measure the turbulent diffusivity in the ocean consistently found values much smaller than the one predicted by Munk (1966). Specifically, while larger values of the turbulent diffusivity were found near the bottom of the ocean over rough topographic features, the values in the upper ocean were about 10x smaller than the values predicted by Munk. 50 years after Munk's seminal paper, Ferrari et al. (2016) proposed that a depth-dependent turbulent diffusivity could be balanced by <em>downwelling</em>, with negative vertical velocities in the ocean interior. In this theory, the overturning circulation is upwelling in thin boundary layers along the sloping sides of the ocean basins.\n",
    "\n",
    "When the diffusivity, $\\kappa$, is a function of $z$, the steady advection/diffusion equation can be written\n",
    "\n",
    "$$ w\\frac{dT}{dz} = \\frac{d}{dz}\\left(\\kappa(z) \\frac{dT}{dz}\\right)$$\n",
    "\n",
    "The Dedalus script below solves the previous equation and again compares the results with the observed temperature profile. For the depth-dependent diffusivity, $\\kappa(z)$, we take\n",
    "\n",
    "$$ \\kappa(z)=\\kappa_{bg} + (\\kappa_0-\\kappa_{bg})e^{-(z+D)/l} $$\n",
    "\n",
    "using the form from Rogers et al., 2023, where $\\kappa_{bg}=1\\times 10^{-5} m^2/s$ is the background diffusivity characteristic of the upper water column, $\\kappa_0=8.6\\times 10^{-4} m^2/s$ characterizes the enhanced mixing near the bottom of the ocean, $D$ is a reference depth where $\\kappa=\\kappa_0$, and $l=667m$ is an exponential decay scale. In the script below, we start with $w=0$. "
   ]
  },
  {
   "cell_type": "code",
   "execution_count": 9,
   "metadata": {},
   "outputs": [
    {
     "name": "stdout",
     "output_type": "stream",
     "text": [
      "2024-11-14 15:01:32,232 subsystems 0/1 INFO :: Building subproblem matrices 1/1 (~100%) Elapsed: 0s, Remaining: 0s, Rate: 3.7e+00/s\n"
     ]
    },
    {
     "data": {
      "text/plain": [
       "Text(0, 0.5, 'Depth (m)')"
      ]
     },
     "execution_count": 9,
     "metadata": {},
     "output_type": "execute_result"
    },
    {
     "data": {
      "image/png": "[encoded data removed]",
      "text/plain": [
       "<Figure size 600x400 with 1 Axes>"
      ]
     },
     "metadata": {},
     "output_type": "display_data"
    }
   ],
   "source": [
    "\"\"\"\n",
    "Dedalus script to solve the steady advection/diffusion equation\n",
    "with a spatially-variable diffusivity\n",
    "\"\"\"\n",
    "\n",
    "import numpy as np\n",
    "import matplotlib.pyplot as plt\n",
    "import dedalus.public as d3\n",
    "import logging\n",
    "logger = logging.getLogger(__name__)\n",
    "\n",
    "# Set various parameters. Note that the depth and the top and bottom temperature \n",
    "# are taken from the CTD data in the code cell above. That cell must be run first to define CTD_T and CTD_z.\n",
    "z_surface = CTD_z[-1]\n",
    "z_bottom = CTD_z[0]\n",
    "T_surface = CTD_T[-1]\n",
    "T_bottom = CTD_T[0]\n",
    "Nz = 1000\n",
    "\n",
    "# Set the vertical velocity\n",
    "w = 0 # m/s\n",
    "\n",
    "# Bases\n",
    "zcoord = d3.Coordinate('z')\n",
    "dist = d3.Distributor(zcoord, dtype=np.float64)\n",
    "zbasis = d3.Chebyshev(zcoord, size=Nz, bounds=(z_bottom, z_surface))\n",
    "z = dist.local_grid(zbasis)\n",
    "\n",
    "# Fields\n",
    "T = dist.Field(name='T', bases=zbasis)\n",
    "kappa = dist.Field(name='kappa', bases=zbasis)\n",
    "# Set the diffusivity\n",
    "# Below is the diffusivity profile from Rogers et al., 2023\n",
    "kappa['g']=1e-5 + (8.6e-4-1e-5)*np.exp((-5e3-z)/667) # m^2/s\n",
    "\n",
    "# Add two tau variables to allow us to apply two boundary conditions\n",
    "tau_1 = dist.Field(name='tau_1')\n",
    "tau_2 = dist.Field(name='tau_2')\n",
    "lift_basis = zbasis.derivative_basis(1)\n",
    "lift = lambda A: d3.Lift(A, lift_basis, -1)\n",
    "\n",
    "# Substitutions\n",
    "dz = lambda A: d3.Differentiate(A, zcoord)\n",
    "Tz = dz(T) + lift(tau_1)\n",
    "Tzz = dz(Tz) + lift(tau_2)\n",
    "\n",
    "# Problem\n",
    "problem = d3.LBVP([T, tau_1, tau_2], namespace=locals())\n",
    "problem.add_equation(\"w*Tz - dz(kappa*Tz) + lift(tau_2) = 0\")\n",
    "problem.add_equation(\"T(z=z_surface) = T_surface\")\n",
    "problem.add_equation(\"T(z=z_bottom) = T_bottom\")\n",
    "\n",
    "# Solver\n",
    "solver = problem.build_solver()\n",
    "solver.solve()\n",
    "\n",
    "# Plot\n",
    "plt.figure(figsize=(6, 4))\n",
    "Tg=T['g']\n",
    "plt.scatter(CTD_T,CTD_z,s=10)\n",
    "plt.plot(Tg,z,'k')\n",
    "plt.xlabel('Temperature (ºC)')\n",
    "plt.ylabel('Depth (m)')"
   ]
  },
  {
   "cell_type": "markdown",
   "metadata": {},
   "source": [
    "### 1.6 Student investigation\n",
    "<a id='section1pt6'></a>\n",
    "Note from the results of the script above that the density profile is reasonable, even though $w=0$. In the box below, comment on the balance in this case and what this implies about the diffusive heat flux.\n",
    "\n",
    "Next, find a vertical velocity that produces a better agreement with the observations and report it below. Then, try varying the details of the $\\kappa(z)$ profile. How sensitive is the optimal $w$ to your choice of $\\kappa(z)$? What does this imply about the circulation in the ocean interior if $\\kappa(z)$ varies between regions of smooth and rough topography?\n",
    "\n",
    "(As an aside, note that the requied vertical velocity is much smaller than the one used by Munk (1966). This implies that the dense, cold water that sinks at the poles must rise elsewhere. Ferrari et al. (2016) proposed that this occurs in boundary layers near the seafloor.)"
   ]
  },
  {
   "cell_type": "markdown",
   "metadata": {},
   "source": [
    "#### 1.6.1 Variable diffusivity investigation \n",
    "\n"
   ]
  },
  {
   "cell_type": "code",
   "execution_count": null,
   "metadata": {},
   "outputs": [],
   "source": [
    "# In this investigation we are going to look at how "
   ]
  },
  {
   "cell_type": "markdown",
   "metadata": {},
   "source": [
    "## 2. Transport of pollution in a river\n",
    "\n",
    "Advection/diffusion equations are a common way to model the material transport in many physical systems. In this section we will model the transport and dilution of a pollutants added to a river.\n",
    "\n",
    "For simplicity, we will model the river as a rectangular channel, and we will neglect depth variations. Let $x$ be the coordinate along the length of the river, and $y$ be the cross-stream coordinate. We will model the river current as \n",
    "\n",
    "$$ u(y) = U_0\\left(1-\\frac{(y-w/2)^2}{(w/2)^2}\\right) $$\n",
    "\n",
    "where $w$ is the width of the river and $U_0$ is the maximum current speed which occurs at the center of the river (the $y$-coordinate will run from 0 to $w$).\n",
    "\n",
    "Since we want to know how the pollution levels vary in time, we will solve the time-dependent advection/diffusion equation. We will model the addition of pollution by adding a spatially-dependent source term to the right hand side of the equation governing pollutant concentration:\n",
    "\n",
    "$$ \\frac{\\partial c}{\\partial t} + u(y)\\frac{\\partial c}{\\partial x} = \\kappa \\nabla^2 c + S(x,y) $$\n",
    "\n",
    "where $\\nabla^2=(\\partial_x^2 + \\partial_y^2)$ is the Laplacian operator for diffusion in 2D Cartesian coordinates, and $S$ is the source term."
   ]
  },
  {
   "cell_type": "markdown",
   "metadata": {},
   "source": [
    "### 2.1 Dedalus script\n",
    "\n",
    "The script below solves the time-dependent advection/diffusion equation with a source term."
   ]
  },
  {
   "cell_type": "code",
   "execution_count": null,
   "metadata": {},
   "outputs": [],
   "source": [
    "\"\"\"\n",
    "Script to solve the time-dependent advection/diffusion equation\n",
    "\"\"\"\n",
    "\n",
    "import numpy as np\n",
    "import matplotlib.pyplot as plt\n",
    "import dedalus.public as dedalus\n",
    "import logging\n",
    "logger = logging.getLogger(__name__)\n",
    "\n",
    "# Set parameters\n",
    "U0 = 0.1 # maximum current speed in m/s\n",
    "w = 10 # width of the river in m\n",
    "L = 50 # length of the river section to simulate\n",
    "kappa = 1e-2 # diffusivity in m^2/s\n",
    "S0 = 1 # amplitude of the pollution source term\n",
    "S_w = 1 # width of the source term in m\n",
    "S_x = 10 # center of the forcing in x\n",
    "S_y = 0 # center of the forcing in y\n",
    "S_t = 1 # forcing timescale\n",
    "\n",
    "# Numerical parameters\n",
    "Nx = 256 # number of gridoints in x\n",
    "Ny = 32 # number of gridpoints in y\n",
    "stop_sim_time=1500 # end time in seconds\n",
    "timestep = (L/Nx)/U0 # timestep in seconds, calculated from the CFL number\n",
    "\n",
    "import numpy as np\n",
    "import dedalus.public as dedalus\n",
    "import logging\n",
    "logger = logging.getLogger(__name__)\n",
    "\n",
    "# Bases and coordinates\n",
    "coords = dedalus.CartesianCoordinates('x', 'y')\n",
    "dist = dedalus.Distributor(coords, dtype=np.float64)\n",
    "xbasis = dedalus.RealFourier(coords['x'], size=Nx, bounds=(0, L), dealias=3/2)\n",
    "ybasis = dedalus.ChebyshevT(coords['y'], size=Ny, bounds=(0, w), dealias=3/2)\n",
    "x, y = dist.local_grids(xbasis, ybasis)\n",
    "ex, ey = coords.unit_vector_fields(dist) # x and y unit vectors\n",
    "\n",
    "# Fields\n",
    "c = dist.Field(name='b', bases=(xbasis,ybasis))\n",
    "u = dist.Field(name='u', bases=(xbasis,ybasis))\n",
    "tau_1 = dist.Field(name='tau_1', bases=xbasis)\n",
    "tau_2 = dist.Field(name='tau_2', bases=xbasis)\n",
    "\n",
    "# Specify the velocity field\n",
    "u['g'] = U0 * (1- (y - w/2)**2.0/(w/2)**2.0) # parabolic velocity profile\n",
    "\n",
    "# Substitutions\n",
    "lift_basis = ybasis.derivative_basis(1)\n",
    "lift = lambda A: dedalus.Lift(A, lift_basis, -1)\n",
    "grad_c = dedalus.grad(c) + ey*lift(tau_1)\n",
    "dx = lambda A: dedalus.Differentiate(A, coords['x'])\n",
    "\n",
    "S = dist.Field(name='u', bases=(xbasis,ybasis))\n",
    "S['g'] = S0*np.exp(-(x-S_x)**2.0/S_w**2.0-(y-S_y)**2.0/S_w**2.0)\n",
    "\n",
    "# Problem\n",
    "problem = dedalus.IVP([c, tau_1, tau_2], namespace=locals())\n",
    "problem.add_equation(\"dt(c) + u*dx(c) - kappa*div(grad_c) + lift(tau_2) = S/S_t\")\n",
    "problem.add_equation(\"c(y=0) = 0\")\n",
    "problem.add_equation(\"c(y=w) = 0\")\n",
    "\n",
    "# Now, set the solver\n",
    "solver = problem.build_solver(dedalus.RK222)\n",
    "solver.stop_sim_time = stop_sim_time\n",
    "\n",
    "# Create an array to periodically save the concentration field for plotting later\n",
    "c.change_scales(1)\n",
    "c_save = [np.copy(c['g'])]; \n",
    "\n",
    "t_save = [solver.sim_time]; # Save the initial condition and the initial time\n",
    "# Main loop\n",
    "try:\n",
    "    logger.info('Starting main loop')\n",
    "    while solver.proceed:\n",
    "        solver.step(timestep)\n",
    "        if (solver.iteration-1) % 10 == 0:\n",
    "            logger.info('Iteration=%i, Time=%e, dt=%e' %(solver.iteration, solver.sim_time, timestep))\n",
    "            c.change_scales(1)\n",
    "            c_save.append(np.copy(c['g']))\n",
    "            t_save.append(solver.sim_time)\n",
    "except:\n",
    "    logger.error('Exception raised, triggering end of main loop.')\n",
    "    raise\n",
    "finally:\n",
    "    solver.log_stats()\n",
    "\n",
    "# Convert the variables to numpy arrays for allow array slicing\n",
    "c_save = np.array(c_save)"
   ]
  },
  {
   "cell_type": "markdown",
   "metadata": {},
   "source": [
    "## 2.2 Visualization\n",
    "\n",
    "The script below makes a movie of the results from the saved variables. To run this, you need to have ffmpeg installed.  If you don't already have it installed, you can install ffmpeg with the command: \n",
    "\n",
    "`conda install -c conda-forge ffmpeg`"
   ]
  },
  {
   "cell_type": "code",
   "execution_count": null,
   "metadata": {},
   "outputs": [],
   "source": [
    "# create a figure and axes\n",
    "fig = plt.figure(figsize=(6,6))\n",
    "\n",
    "# Create arrays with the latitude and longitude coordinates for plotting using pcolor\n",
    "from dedalus.extras import plot_tools\n",
    "(X, Y) = plot_tools.quad_mesh(np.squeeze(x), np.squeeze(y))  \n",
    "\n",
    "# Define an animation function\n",
    "def drawframe(n):\n",
    "    plt.clf()\n",
    "    concentration = plt.pcolor(X, Y, c_save[n,:,:].T)\n",
    "    # Specify the axis limits and labels\n",
    "    plt.axis('square')\n",
    "    plt.xlim(0, L)   \n",
    "    plt.ylim(0, w)  \n",
    "    plt.xlabel('x (m)')\n",
    "    plt.ylabel('y (m)')\n",
    "    plt.title('concentration, time = {0:.2f} seconds'.format(t_save[n]))\n",
    "    return (concentration,)\n",
    "\n",
    "from matplotlib import animation\n",
    "# blit=True re-draws only the parts that have changed.\n",
    "anim = animation.FuncAnimation(fig, drawframe, frames=len(t_save), interval=40, blit=True)\n",
    "\n",
    "from IPython.display import HTML\n",
    "HTML(anim.to_html5_video())"
   ]
  },
  {
   "cell_type": "markdown",
   "metadata": {},
   "source": [
    "## 2.3 Student investigation\n",
    "<a id='section2pt3'></a>\n",
    "In the boxes below, plot the pollution concentration at a few points as a function of time. Then vary the maximum flow speed and the diffusivity and explore how the pollution levels depend on these parameters. Using dimensional analysis, estimate the time needed for the pollution to reach the opposite side of the river. How far downstream of the source do you expect this to happen (assuming that the domain in the x-direction is infinite)."
   ]
  },
  {
   "cell_type": "markdown",
   "metadata": {},
   "source": [
    "INSERT PLOTS AND COMMENTS HERE"
   ]
  },
  {
   "cell_type": "markdown",
   "metadata": {},
   "source": [
    "## 3. Optional further investigations\n",
    "\n",
    "* In the river pollution example, you might notice that the concentration field is mixed more effectively in the x-direction than in the y-direction. The combination of differential advection by the currents and cross-stream diffusion is very effective at mixing the plume in the x-direction. This is an example of Taylor dispersion (Taylor, 1953). Construct numerical experiments to quantify Taylor dispersion and its dependence on the current shear and the diffusivity. You could also separate the diffusivity into parts in the x and y directions with different coefficients.  If you set the x-component of the diffusivity to zero, then any spreading of the concentration in the x-direction should be due to Taylor dispersion.\n",
    "\n",
    "* Try making the river speed a function of time. The easiest way to do this is to add a new equation so that Dedalus solves for the velocity in addition to the concentration field. For example, you could make the river speed decrease exponentially in time, or it could be sinusoidal in time.\n",
    "\n",
    "* In the ocean mixing example, if $\\kappa$ is a function of $x$ and $z$, what would this imply about the velocity field? You could even try writing a Dedalus script to solve the 2D advection/diffusion equation with a prescribed spatially-dependent $\\kappa(x,z)$.\n"
   ]
  },
  {
   "cell_type": "markdown",
   "metadata": {},
   "source": [
    "### References\n",
    "\n",
    "Munk, W.H., 1966. Abyssal recipes. In Deep sea research and oceanographic abstracts (Vol. 13, No. 4, pp. 707-730). Elsevier.\n",
    "\n",
    "Ferrari, R., Mashayek, A., McDougall, T.J., Nikurashin, M. and Campin, J.M., 2016. Turning ocean mixing upside down. Journal of Physical Oceanography, 46(7), pp.2239-2261.\n",
    "\n",
    "Taylor, G.I., 1953. Dispersion of soluble matter in solvent flowing slowly through a tube. Proceedings of the Royal Society of London. Series A. Mathematical and Physical Sciences, 219(1137), pp.186-203."
   ]
  }
 ],
 "metadata": {
  "kernelspec": {
   "display_name": "dedalus3",
   "language": "python",
   "name": "python3"
  },
  "language_info": {
   "codemirror_mode": {
    "name": "ipython",
    "version": 3
   },
   "file_extension": ".py",
   "mimetype": "text/x-python",
   "name": "python",
   "nbconvert_exporter": "python",
   "pygments_lexer": "ipython3",
   "version": "3.13.0"
  }
 },
 "nbformat": 4,
 "nbformat_minor": 2
}
